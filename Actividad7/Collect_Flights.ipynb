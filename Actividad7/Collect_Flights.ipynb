{
 "cells": [
  {
   "cell_type": "code",
   "execution_count": 28,
   "id": "510f2f02",
   "metadata": {},
   "outputs": [],
   "source": [
    "import requests # Importamos requests para hacer peticiones a la web\n",
    "import json # Importamos json para manejar datos en formato JSON\n",
    "from IPython.display import JSON # Esto sirve para mostrar JSON bonito en Jupyter\n",
    "from keys import * # Traemos la clave de acceso desde el archivo keys.py"
   ]
  },
  {
   "cell_type": "code",
   "execution_count": 29,
   "id": "2aa27494",
   "metadata": {},
   "outputs": [],
   "source": [
    "#be careful not to run too often as there is a maximum of 200 api calls per month\n",
    "\n",
    "url = \"https://aerodatabox.p.rapidapi.com/flights/airports/icao/LIRF/2025-09-01T08:00/2025-09-01T20:00\" # URL que consulta vuelos que llegan al aeropuerto EDDB entre las 8:00 y 20:00 del 1 de septiembre de 2025\n",
    "\n",
    "querystring = {\"withLeg\":\"true\",\"direction\":\"Arrival\",\"withCancelled\":\"true\",\"withCodeshared\":\"true\",\"withCargo\":\"true\",\"withPrivate\":\"true\",\"withLocation\":\"false\"} # Parámetros extra para la consulta: queremos ver vuelos cancelados, compartidos, de carga, privados, etc.\n",
    "\n",
    "headers = {\n",
    "    'x-rapidapi-host': \"aerodatabox.p.rapidapi.com\",\n",
    "    'x-rapidapi-key': flights_key\n",
    "    } # Encabezados necesarios para conectarse a la API de RapidAPI\n",
    "\n",
    "response = requests.request(\"GET\", url, headers=headers, params=querystring) # Hacemos la petición GET con todos los datos anteriores"
   ]
  },
  {
   "cell_type": "code",
   "execution_count": 30,
   "id": "e1a5fb16",
   "metadata": {},
   "outputs": [
    {
     "name": "stdout",
     "output_type": "stream",
     "text": [
      "Data appended to data.json file.\n"
     ]
    }
   ],
   "source": [
    "if response.status_code == 200: \n",
    "# Si la respuesta fue exitosa (código 200), guardamos los datos\n",
    "    new_data = response.json()\n",
    "\n",
    "    try: # Intentamos abrir el archivo data.json para agregarle los nuevos datos\n",
    "        with open(\"data.json\", \"r\") as json_file:\n",
    "            existing_data = json.load(json_file)\n",
    "    except (FileNotFoundError, json.decoder.JSONDecodeError):\n",
    "        existing_data = []\n",
    "# Agregamos los nuevos datos a la lista\n",
    "    existing_data.append(new_data)\n",
    " # Guardamos todo de nuevo en el archivo data.json\n",
    "    with open(\"data.json\", \"w\") as json_file:\n",
    "        json.dump(existing_data, json_file, indent=4)\n",
    "        print(\"Data appended to data.json file.\")\n",
    "else:# Si algo salió mal, mostramos el código de error\n",
    "    print(\"Failed to retrieve data from the API. Status code:\", response.status_code)"
   ]
  },
  {
   "cell_type": "code",
   "execution_count": 31,
   "id": "8cb18891",
   "metadata": {},
   "outputs": [],
   "source": [
    "flight_arrivals = response.json() # Guardamos la respuesta en una variable para trabajar con ella\n",
    "# Sacamos algunos datos clave del primer vuelo (esto no guarda nada, solo accede)\n",
    "for flight in flight_arrivals:\n",
    "    flight_arrivals['arrivals'][0]['arrival']['scheduledTime']\n",
    "    flight_arrivals['arrivals'][0]['number']\n",
    "    flight_arrivals['arrivals'][0]['arrival']['terminal']\n",
    "    flight_arrivals['arrivals'][0]['departure']['airport']['name']\n",
    "    flight_arrivals['arrivals'][0]['aircraft']['model']\n",
    "    flight_arrivals['arrivals'][0]['airline']['name']"
   ]
  },
  {
   "cell_type": "code",
   "execution_count": 32,
   "id": "08c861fc",
   "metadata": {},
   "outputs": [
    {
     "data": {
      "text/html": [
       "<div>\n",
       "<style scoped>\n",
       "    .dataframe tbody tr th:only-of-type {\n",
       "        vertical-align: middle;\n",
       "    }\n",
       "\n",
       "    .dataframe tbody tr th {\n",
       "        vertical-align: top;\n",
       "    }\n",
       "\n",
       "    .dataframe thead th {\n",
       "        text-align: right;\n",
       "    }\n",
       "</style>\n",
       "<table border=\"1\" class=\"dataframe\">\n",
       "  <thead>\n",
       "    <tr style=\"text-align: right;\">\n",
       "      <th></th>\n",
       "      <th>flight_number</th>\n",
       "      <th>from</th>\n",
       "      <th>airline</th>\n",
       "      <th>aircraft</th>\n",
       "      <th>scheduled_arrival_time.utc</th>\n",
       "      <th>scheduled_arrival_time.local</th>\n",
       "    </tr>\n",
       "  </thead>\n",
       "  <tbody>\n",
       "    <tr>\n",
       "      <th>0</th>\n",
       "      <td>UA 884</td>\n",
       "      <td>Washington</td>\n",
       "      <td>United</td>\n",
       "      <td>Boeing 777-200</td>\n",
       "      <td>2025-09-01 06:15Z</td>\n",
       "      <td>2025-09-01 08:15+02:00</td>\n",
       "    </tr>\n",
       "    <tr>\n",
       "      <th>0</th>\n",
       "      <td>U2 1411</td>\n",
       "      <td>Geneva</td>\n",
       "      <td>easyJet</td>\n",
       "      <td>Airbus A320</td>\n",
       "      <td>2025-09-01 06:10Z</td>\n",
       "      <td>2025-09-01 08:10+02:00</td>\n",
       "    </tr>\n",
       "    <tr>\n",
       "      <th>0</th>\n",
       "      <td>AZ 1736</td>\n",
       "      <td>Catania</td>\n",
       "      <td>ITA</td>\n",
       "      <td>Airbus A320</td>\n",
       "      <td>2025-09-01 06:30Z</td>\n",
       "      <td>2025-09-01 08:30+02:00</td>\n",
       "    </tr>\n",
       "    <tr>\n",
       "      <th>0</th>\n",
       "      <td>W6 1441</td>\n",
       "      <td>Warsaw</td>\n",
       "      <td>Wizz Air</td>\n",
       "      <td>Airbus A320</td>\n",
       "      <td>2025-09-01 06:05Z</td>\n",
       "      <td>2025-09-01 08:05+02:00</td>\n",
       "    </tr>\n",
       "    <tr>\n",
       "      <th>0</th>\n",
       "      <td>VY 6100</td>\n",
       "      <td>Barcelona</td>\n",
       "      <td>Vueling</td>\n",
       "      <td>Airbus A321</td>\n",
       "      <td>2025-09-01 06:20Z</td>\n",
       "      <td>2025-09-01 08:20+02:00</td>\n",
       "    </tr>\n",
       "  </tbody>\n",
       "</table>\n",
       "</div>"
      ],
      "text/plain": [
       "  flight_number        from   airline        aircraft  \\\n",
       "0        UA 884  Washington    United  Boeing 777-200   \n",
       "0       U2 1411      Geneva   easyJet     Airbus A320   \n",
       "0       AZ 1736     Catania       ITA     Airbus A320   \n",
       "0       W6 1441      Warsaw  Wizz Air     Airbus A320   \n",
       "0       VY 6100   Barcelona   Vueling     Airbus A321   \n",
       "\n",
       "  scheduled_arrival_time.utc scheduled_arrival_time.local  \n",
       "0          2025-09-01 06:15Z       2025-09-01 08:15+02:00  \n",
       "0          2025-09-01 06:10Z       2025-09-01 08:10+02:00  \n",
       "0          2025-09-01 06:30Z       2025-09-01 08:30+02:00  \n",
       "0          2025-09-01 06:05Z       2025-09-01 08:05+02:00  \n",
       "0          2025-09-01 06:20Z       2025-09-01 08:20+02:00  "
      ]
     },
     "execution_count": 32,
     "metadata": {},
     "output_type": "execute_result"
    }
   ],
   "source": [
    "import pandas as pd # Importamos pandas para trabajar con tablas y numpy para manejar valores nulos\n",
    "from numpy import nan\n",
    "\n",
    "flight_arrivals = response.json()\n",
    "\n",
    "def flight_extraction(flights):\n",
    "    flight_data = {\n",
    "        'scheduled_arrival_time': flights['arrival']['scheduledTime'],\n",
    "        'flight_number': flights['number'],\n",
    "        'from': flights['departure']['airport']['name'],\n",
    "        'airline': flights['airline']['name'],\n",
    "        'aircraft': flights.get('aircraft', {}).get('model', 'No disponible')\n",
    "    }\n",
    "    return pd.json_normalize(flight_data)\n",
    "\n",
    "\n",
    "# Aplicamos la función a todos los vuelos y los juntamos en un solo DataFrame\n",
    "flight_arrivals = pd.concat(\n",
    "    [flight_extraction(flight) for flight in flight_arrivals['arrivals']]\n",
    ")\n",
    "# Mostramos las primeras filas para ver cómo quedó la tabla\n",
    "flight_arrivals.head()"
   ]
  },
  {
   "cell_type": "code",
   "execution_count": null,
   "id": "473998d7",
   "metadata": {},
   "outputs": [],
   "source": []
  }
 ],
 "metadata": {
  "kernelspec": {
   "display_name": "Python 3 (ipykernel)",
   "language": "python",
   "name": "python3"
  },
  "language_info": {
   "codemirror_mode": {
    "name": "ipython",
    "version": 3
   },
   "file_extension": ".py",
   "mimetype": "text/x-python",
   "name": "python",
   "nbconvert_exporter": "python",
   "pygments_lexer": "ipython3",
   "version": "3.12.3"
  }
 },
 "nbformat": 4,
 "nbformat_minor": 5
}
