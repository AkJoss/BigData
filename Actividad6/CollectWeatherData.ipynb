{
 "cells": [
  {
   "cell_type": "code",
   "execution_count": 5,
   "id": "8dfa7917",
   "metadata": {},
   "outputs": [],
   "source": [
    "# Usamos la librería requests para hacer peticiones por internet\n",
    "import requests\n",
    "\n",
    "# Cargamos pandas como pd para trabajar con tablas de datos\n",
    "import pandas as pd\n",
    "\n",
    "# Cargamos numpy como np para hacer cálculos y manejar arreglos\n",
    "import numpy as np\n",
    "\n",
    "# Traemos todo lo que está en el archivo keys.py\n",
    "from keys import *\n",
    "\n",
    "# Ponemos el nombre de la ciudad que vamos a consultar\n",
    "city = \"Roma\"\n",
    "\n",
    "# Indicamos el código del país\n",
    "country = \"IT\"\n",
    "\n",
    "# Hacemos una petición GET a la API de OpenWeatherMap para ver el clima\n",
    "response = requests.get(f'http://api.openweathermap.org/data/2.5/forecast/?q={city},{country}&appid={OWM_key}&units=metric&lang=en')\n"
   ]
  },
  {
   "cell_type": "code",
   "execution_count": 9,
   "id": "51ed1ec1",
   "metadata": {},
   "outputs": [
    {
     "name": "stdout",
     "output_type": "stream",
     "text": [
      "{'cod': '200', 'message': 0, 'cnt': 40, 'list': [{'dt': 1758758400, 'main': {'temp': 19.35, 'feels_like': 19.12, 'temp_min': 16.82, 'temp_max': 19.35, 'pressure': 1017, 'sea_level': 1017, 'grnd_level': 1009, 'humidity': 68, 'temp_kf': 2.53}, 'weather': [{'id': 800, 'main': 'Clear', 'description': 'clear sky', 'icon': '01n'}], 'clouds': {'all': 0}, 'wind': {'speed': 0.59, 'deg': 126, 'gust': 1.28}, 'visibility': 10000, 'pop': 0, 'sys': {'pod': 'n'}, 'dt_txt': '2025-09-25 00:00:00'}, {'dt': 1758769200, 'main': {'temp': 18.51, 'feels_like': 18.14, 'temp_min': 16.83, 'temp_max': 18.51, 'pressure': 1017, 'sea_level': 1017, 'grnd_level': 1008, 'humidity': 66, 'temp_kf': 1.68}, 'weather': [{'id': 800, 'main': 'Clear', 'description': 'clear sky', 'icon': '01n'}], 'clouds': {'all': 3}, 'wind': {'speed': 2.77, 'deg': 101, 'gust': 4.16}, 'visibility': 10000, 'pop': 0, 'sys': {'pod': 'n'}, 'dt_txt': '2025-09-25 03:00:00'}, {'dt': 1758780000, 'main': {'temp': 17.64, 'feels_like': 17.13, 'temp_min': 16.79, 'temp_max': 17.64, 'pressure': 1017, 'sea_level': 1017, 'grnd_level': 1009, 'humidity': 64, 'temp_kf': 0.85}, 'weather': [{'id': 802, 'main': 'Clouds', 'description': 'scattered clouds', 'icon': '03d'}], 'clouds': {'all': 26}, 'wind': {'speed': 2, 'deg': 103, 'gust': 4.22}, 'visibility': 10000, 'pop': 0, 'sys': {'pod': 'd'}, 'dt_txt': '2025-09-25 06:00:00'}, {'dt': 1758790800, 'main': {'temp': 19.54, 'feels_like': 18.88, 'temp_min': 19.54, 'temp_max': 19.54, 'pressure': 1018, 'sea_level': 1018, 'grnd_level': 1010, 'humidity': 51, 'temp_kf': 0}, 'weather': [{'id': 804, 'main': 'Clouds', 'description': 'overcast clouds', 'icon': '04d'}], 'clouds': {'all': 99}, 'wind': {'speed': 2.43, 'deg': 189, 'gust': 3.74}, 'visibility': 10000, 'pop': 0, 'sys': {'pod': 'd'}, 'dt_txt': '2025-09-25 09:00:00'}, {'dt': 1758801600, 'main': {'temp': 21.09, 'feels_like': 20.35, 'temp_min': 21.09, 'temp_max': 21.09, 'pressure': 1018, 'sea_level': 1018, 'grnd_level': 1009, 'humidity': 42, 'temp_kf': 0}, 'weather': [{'id': 804, 'main': 'Clouds', 'description': 'overcast clouds', 'icon': '04d'}], 'clouds': {'all': 100}, 'wind': {'speed': 4.83, 'deg': 219, 'gust': 5.66}, 'visibility': 10000, 'pop': 0, 'sys': {'pod': 'd'}, 'dt_txt': '2025-09-25 12:00:00'}, {'dt': 1758812400, 'main': {'temp': 22.12, 'feels_like': 21.59, 'temp_min': 22.12, 'temp_max': 22.12, 'pressure': 1017, 'sea_level': 1017, 'grnd_level': 1009, 'humidity': 46, 'temp_kf': 0}, 'weather': [{'id': 802, 'main': 'Clouds', 'description': 'scattered clouds', 'icon': '03d'}], 'clouds': {'all': 39}, 'wind': {'speed': 4.66, 'deg': 226, 'gust': 5.83}, 'visibility': 10000, 'pop': 0, 'sys': {'pod': 'd'}, 'dt_txt': '2025-09-25 15:00:00'}, {'dt': 1758823200, 'main': {'temp': 19.61, 'feels_like': 19.04, 'temp_min': 19.61, 'temp_max': 19.61, 'pressure': 1018, 'sea_level': 1018, 'grnd_level': 1010, 'humidity': 54, 'temp_kf': 0}, 'weather': [{'id': 802, 'main': 'Clouds', 'description': 'scattered clouds', 'icon': '03n'}], 'clouds': {'all': 31}, 'wind': {'speed': 1.45, 'deg': 196, 'gust': 3.16}, 'visibility': 10000, 'pop': 0, 'sys': {'pod': 'n'}, 'dt_txt': '2025-09-25 18:00:00'}, {'dt': 1758834000, 'main': {'temp': 19.28, 'feels_like': 18.8, 'temp_min': 19.28, 'temp_max': 19.28, 'pressure': 1019, 'sea_level': 1019, 'grnd_level': 1011, 'humidity': 59, 'temp_kf': 0}, 'weather': [{'id': 800, 'main': 'Clear', 'description': 'clear sky', 'icon': '01n'}], 'clouds': {'all': 10}, 'wind': {'speed': 1.37, 'deg': 174, 'gust': 3.6}, 'visibility': 10000, 'pop': 0, 'sys': {'pod': 'n'}, 'dt_txt': '2025-09-25 21:00:00'}, {'dt': 1758844800, 'main': {'temp': 18.77, 'feels_like': 18.37, 'temp_min': 18.77, 'temp_max': 18.77, 'pressure': 1019, 'sea_level': 1019, 'grnd_level': 1011, 'humidity': 64, 'temp_kf': 0}, 'weather': [{'id': 500, 'main': 'Rain', 'description': 'light rain', 'icon': '10n'}], 'clouds': {'all': 33}, 'wind': {'speed': 0.4, 'deg': 220, 'gust': 2.97}, 'visibility': 10000, 'pop': 0.2, 'rain': {'3h': 0.18}, 'sys': {'pod': 'n'}, 'dt_txt': '2025-09-26 00:00:00'}, {'dt': 1758855600, 'main': {'temp': 17.6, 'feels_like': 17.22, 'temp_min': 17.6, 'temp_max': 17.6, 'pressure': 1019, 'sea_level': 1019, 'grnd_level': 1011, 'humidity': 69, 'temp_kf': 0}, 'weather': [{'id': 500, 'main': 'Rain', 'description': 'light rain', 'icon': '10n'}], 'clouds': {'all': 63}, 'wind': {'speed': 1.79, 'deg': 54, 'gust': 1.66}, 'visibility': 10000, 'pop': 0.27, 'rain': {'3h': 0.15}, 'sys': {'pod': 'n'}, 'dt_txt': '2025-09-26 03:00:00'}, {'dt': 1758866400, 'main': {'temp': 17.72, 'feels_like': 17.35, 'temp_min': 17.72, 'temp_max': 17.72, 'pressure': 1019, 'sea_level': 1019, 'grnd_level': 1011, 'humidity': 69, 'temp_kf': 0}, 'weather': [{'id': 803, 'main': 'Clouds', 'description': 'broken clouds', 'icon': '04d'}], 'clouds': {'all': 67}, 'wind': {'speed': 1.37, 'deg': 77, 'gust': 1.94}, 'visibility': 10000, 'pop': 0, 'sys': {'pod': 'd'}, 'dt_txt': '2025-09-26 06:00:00'}, {'dt': 1758877200, 'main': {'temp': 22.71, 'feels_like': 22.34, 'temp_min': 22.71, 'temp_max': 22.71, 'pressure': 1020, 'sea_level': 1020, 'grnd_level': 1012, 'humidity': 50, 'temp_kf': 0}, 'weather': [{'id': 803, 'main': 'Clouds', 'description': 'broken clouds', 'icon': '04d'}], 'clouds': {'all': 71}, 'wind': {'speed': 1.05, 'deg': 205, 'gust': 2}, 'visibility': 10000, 'pop': 0, 'sys': {'pod': 'd'}, 'dt_txt': '2025-09-26 09:00:00'}, {'dt': 1758888000, 'main': {'temp': 24.39, 'feels_like': 23.96, 'temp_min': 24.39, 'temp_max': 24.39, 'pressure': 1020, 'sea_level': 1020, 'grnd_level': 1012, 'humidity': 41, 'temp_kf': 0}, 'weather': [{'id': 803, 'main': 'Clouds', 'description': 'broken clouds', 'icon': '04d'}], 'clouds': {'all': 64}, 'wind': {'speed': 4.06, 'deg': 240, 'gust': 3.55}, 'visibility': 10000, 'pop': 0, 'sys': {'pod': 'd'}, 'dt_txt': '2025-09-26 12:00:00'}, {'dt': 1758898800, 'main': {'temp': 23.19, 'feels_like': 22.74, 'temp_min': 23.19, 'temp_max': 23.19, 'pressure': 1019, 'sea_level': 1019, 'grnd_level': 1011, 'humidity': 45, 'temp_kf': 0}, 'weather': [{'id': 802, 'main': 'Clouds', 'description': 'scattered clouds', 'icon': '03d'}], 'clouds': {'all': 26}, 'wind': {'speed': 3.81, 'deg': 254, 'gust': 3.37}, 'visibility': 10000, 'pop': 0, 'sys': {'pod': 'd'}, 'dt_txt': '2025-09-26 15:00:00'}, {'dt': 1758909600, 'main': {'temp': 19.91, 'feels_like': 19.58, 'temp_min': 19.91, 'temp_max': 19.91, 'pressure': 1020, 'sea_level': 1020, 'grnd_level': 1012, 'humidity': 62, 'temp_kf': 0}, 'weather': [{'id': 801, 'main': 'Clouds', 'description': 'few clouds', 'icon': '02n'}], 'clouds': {'all': 20}, 'wind': {'speed': 2.18, 'deg': 304, 'gust': 3.23}, 'visibility': 10000, 'pop': 0, 'sys': {'pod': 'n'}, 'dt_txt': '2025-09-26 18:00:00'}, {'dt': 1758920400, 'main': {'temp': 19.08, 'feels_like': 18.71, 'temp_min': 19.08, 'temp_max': 19.08, 'pressure': 1020, 'sea_level': 1020, 'grnd_level': 1012, 'humidity': 64, 'temp_kf': 0}, 'weather': [{'id': 804, 'main': 'Clouds', 'description': 'overcast clouds', 'icon': '04n'}], 'clouds': {'all': 100}, 'wind': {'speed': 1.79, 'deg': 358, 'gust': 2.26}, 'visibility': 10000, 'pop': 0, 'sys': {'pod': 'n'}, 'dt_txt': '2025-09-26 21:00:00'}, {'dt': 1758931200, 'main': {'temp': 17.93, 'feels_like': 17.45, 'temp_min': 17.93, 'temp_max': 17.93, 'pressure': 1020, 'sea_level': 1020, 'grnd_level': 1011, 'humidity': 64, 'temp_kf': 0}, 'weather': [{'id': 804, 'main': 'Clouds', 'description': 'overcast clouds', 'icon': '04n'}], 'clouds': {'all': 100}, 'wind': {'speed': 2.74, 'deg': 12, 'gust': 4.33}, 'visibility': 10000, 'pop': 0, 'sys': {'pod': 'n'}, 'dt_txt': '2025-09-27 00:00:00'}, {'dt': 1758942000, 'main': {'temp': 16.19, 'feels_like': 15.69, 'temp_min': 16.19, 'temp_max': 16.19, 'pressure': 1018, 'sea_level': 1018, 'grnd_level': 1010, 'humidity': 70, 'temp_kf': 0}, 'weather': [{'id': 802, 'main': 'Clouds', 'description': 'scattered clouds', 'icon': '03n'}], 'clouds': {'all': 48}, 'wind': {'speed': 2.98, 'deg': 21, 'gust': 4.96}, 'visibility': 10000, 'pop': 0, 'sys': {'pod': 'n'}, 'dt_txt': '2025-09-27 03:00:00'}, {'dt': 1758952800, 'main': {'temp': 16.29, 'feels_like': 15.72, 'temp_min': 16.29, 'temp_max': 16.29, 'pressure': 1018, 'sea_level': 1018, 'grnd_level': 1010, 'humidity': 67, 'temp_kf': 0}, 'weather': [{'id': 803, 'main': 'Clouds', 'description': 'broken clouds', 'icon': '04d'}], 'clouds': {'all': 78}, 'wind': {'speed': 2.78, 'deg': 21, 'gust': 4.39}, 'visibility': 10000, 'pop': 0, 'sys': {'pod': 'd'}, 'dt_txt': '2025-09-27 06:00:00'}, {'dt': 1758963600, 'main': {'temp': 22.18, 'feels_like': 21.55, 'temp_min': 22.18, 'temp_max': 22.18, 'pressure': 1019, 'sea_level': 1019, 'grnd_level': 1011, 'humidity': 42, 'temp_kf': 0}, 'weather': [{'id': 802, 'main': 'Clouds', 'description': 'scattered clouds', 'icon': '03d'}], 'clouds': {'all': 28}, 'wind': {'speed': 2.6, 'deg': 13, 'gust': 2.85}, 'visibility': 10000, 'pop': 0, 'sys': {'pod': 'd'}, 'dt_txt': '2025-09-27 09:00:00'}, {'dt': 1758974400, 'main': {'temp': 25.99, 'feels_like': 25.99, 'temp_min': 25.99, 'temp_max': 25.99, 'pressure': 1018, 'sea_level': 1018, 'grnd_level': 1010, 'humidity': 29, 'temp_kf': 0}, 'weather': [{'id': 801, 'main': 'Clouds', 'description': 'few clouds', 'icon': '02d'}], 'clouds': {'all': 13}, 'wind': {'speed': 1.22, 'deg': 293, 'gust': 1.08}, 'visibility': 10000, 'pop': 0, 'sys': {'pod': 'd'}, 'dt_txt': '2025-09-27 12:00:00'}, {'dt': 1758985200, 'main': {'temp': 24.6, 'feels_like': 24.03, 'temp_min': 24.6, 'temp_max': 24.6, 'pressure': 1017, 'sea_level': 1017, 'grnd_level': 1009, 'humidity': 35, 'temp_kf': 0}, 'weather': [{'id': 800, 'main': 'Clear', 'description': 'clear sky', 'icon': '01d'}], 'clouds': {'all': 0}, 'wind': {'speed': 4.14, 'deg': 254, 'gust': 2.98}, 'visibility': 10000, 'pop': 0, 'sys': {'pod': 'd'}, 'dt_txt': '2025-09-27 15:00:00'}, {'dt': 1758996000, 'main': {'temp': 20.34, 'feels_like': 19.89, 'temp_min': 20.34, 'temp_max': 20.34, 'pressure': 1018, 'sea_level': 1018, 'grnd_level': 1010, 'humidity': 56, 'temp_kf': 0}, 'weather': [{'id': 800, 'main': 'Clear', 'description': 'clear sky', 'icon': '01n'}], 'clouds': {'all': 10}, 'wind': {'speed': 2.14, 'deg': 288, 'gust': 3.47}, 'visibility': 10000, 'pop': 0, 'sys': {'pod': 'n'}, 'dt_txt': '2025-09-27 18:00:00'}, {'dt': 1759006800, 'main': {'temp': 19.07, 'feels_like': 18.63, 'temp_min': 19.07, 'temp_max': 19.07, 'pressure': 1018, 'sea_level': 1018, 'grnd_level': 1010, 'humidity': 61, 'temp_kf': 0}, 'weather': [{'id': 803, 'main': 'Clouds', 'description': 'broken clouds', 'icon': '04n'}], 'clouds': {'all': 53}, 'wind': {'speed': 1.22, 'deg': 356, 'gust': 1.62}, 'visibility': 10000, 'pop': 0, 'sys': {'pod': 'n'}, 'dt_txt': '2025-09-27 21:00:00'}, {'dt': 1759017600, 'main': {'temp': 17.42, 'feels_like': 16.86, 'temp_min': 17.42, 'temp_max': 17.42, 'pressure': 1018, 'sea_level': 1018, 'grnd_level': 1010, 'humidity': 63, 'temp_kf': 0}, 'weather': [{'id': 802, 'main': 'Clouds', 'description': 'scattered clouds', 'icon': '03n'}], 'clouds': {'all': 45}, 'wind': {'speed': 2.02, 'deg': 20, 'gust': 2.75}, 'visibility': 10000, 'pop': 0, 'sys': {'pod': 'n'}, 'dt_txt': '2025-09-28 00:00:00'}, {'dt': 1759028400, 'main': {'temp': 16.5, 'feels_like': 15.8, 'temp_min': 16.5, 'temp_max': 16.5, 'pressure': 1017, 'sea_level': 1017, 'grnd_level': 1009, 'humidity': 61, 'temp_kf': 0}, 'weather': [{'id': 801, 'main': 'Clouds', 'description': 'few clouds', 'icon': '02n'}], 'clouds': {'all': 17}, 'wind': {'speed': 2.47, 'deg': 19, 'gust': 3.72}, 'visibility': 10000, 'pop': 0, 'sys': {'pod': 'n'}, 'dt_txt': '2025-09-28 03:00:00'}, {'dt': 1759039200, 'main': {'temp': 16.17, 'feels_like': 15.38, 'temp_min': 16.17, 'temp_max': 16.17, 'pressure': 1017, 'sea_level': 1017, 'grnd_level': 1009, 'humidity': 59, 'temp_kf': 0}, 'weather': [{'id': 802, 'main': 'Clouds', 'description': 'scattered clouds', 'icon': '03d'}], 'clouds': {'all': 31}, 'wind': {'speed': 2.66, 'deg': 19, 'gust': 4.23}, 'visibility': 10000, 'pop': 0, 'sys': {'pod': 'd'}, 'dt_txt': '2025-09-28 06:00:00'}, {'dt': 1759050000, 'main': {'temp': 22.03, 'feels_like': 21.39, 'temp_min': 22.03, 'temp_max': 22.03, 'pressure': 1018, 'sea_level': 1018, 'grnd_level': 1010, 'humidity': 42, 'temp_kf': 0}, 'weather': [{'id': 803, 'main': 'Clouds', 'description': 'broken clouds', 'icon': '04d'}], 'clouds': {'all': 74}, 'wind': {'speed': 2.29, 'deg': 29, 'gust': 2.57}, 'visibility': 10000, 'pop': 0, 'sys': {'pod': 'd'}, 'dt_txt': '2025-09-28 09:00:00'}, {'dt': 1759060800, 'main': {'temp': 25.23, 'feels_like': 24.64, 'temp_min': 25.23, 'temp_max': 25.23, 'pressure': 1017, 'sea_level': 1017, 'grnd_level': 1009, 'humidity': 32, 'temp_kf': 0}, 'weather': [{'id': 804, 'main': 'Clouds', 'description': 'overcast clouds', 'icon': '04d'}], 'clouds': {'all': 87}, 'wind': {'speed': 1.31, 'deg': 290, 'gust': 1.09}, 'visibility': 10000, 'pop': 0, 'sys': {'pod': 'd'}, 'dt_txt': '2025-09-28 12:00:00'}, {'dt': 1759071600, 'main': {'temp': 22.63, 'feels_like': 22.18, 'temp_min': 22.63, 'temp_max': 22.63, 'pressure': 1017, 'sea_level': 1017, 'grnd_level': 1009, 'humidity': 47, 'temp_kf': 0}, 'weather': [{'id': 804, 'main': 'Clouds', 'description': 'overcast clouds', 'icon': '04d'}], 'clouds': {'all': 100}, 'wind': {'speed': 3.73, 'deg': 265, 'gust': 3.69}, 'visibility': 10000, 'pop': 0, 'sys': {'pod': 'd'}, 'dt_txt': '2025-09-28 15:00:00'}, {'dt': 1759082400, 'main': {'temp': 21, 'feels_like': 20.57, 'temp_min': 21, 'temp_max': 21, 'pressure': 1017, 'sea_level': 1017, 'grnd_level': 1009, 'humidity': 54, 'temp_kf': 0}, 'weather': [{'id': 804, 'main': 'Clouds', 'description': 'overcast clouds', 'icon': '04n'}], 'clouds': {'all': 100}, 'wind': {'speed': 1.41, 'deg': 285, 'gust': 2.25}, 'visibility': 10000, 'pop': 0, 'sys': {'pod': 'n'}, 'dt_txt': '2025-09-28 18:00:00'}, {'dt': 1759093200, 'main': {'temp': 20.34, 'feels_like': 19.84, 'temp_min': 20.34, 'temp_max': 20.34, 'pressure': 1018, 'sea_level': 1018, 'grnd_level': 1010, 'humidity': 54, 'temp_kf': 0}, 'weather': [{'id': 804, 'main': 'Clouds', 'description': 'overcast clouds', 'icon': '04n'}], 'clouds': {'all': 100}, 'wind': {'speed': 1.03, 'deg': 18, 'gust': 1.23}, 'visibility': 10000, 'pop': 0, 'sys': {'pod': 'n'}, 'dt_txt': '2025-09-28 21:00:00'}, {'dt': 1759104000, 'main': {'temp': 19.28, 'feels_like': 18.78, 'temp_min': 19.28, 'temp_max': 19.28, 'pressure': 1018, 'sea_level': 1018, 'grnd_level': 1010, 'humidity': 58, 'temp_kf': 0}, 'weather': [{'id': 804, 'main': 'Clouds', 'description': 'overcast clouds', 'icon': '04n'}], 'clouds': {'all': 100}, 'wind': {'speed': 1.58, 'deg': 1, 'gust': 2.17}, 'visibility': 10000, 'pop': 0, 'sys': {'pod': 'n'}, 'dt_txt': '2025-09-29 00:00:00'}, {'dt': 1759114800, 'main': {'temp': 18.58, 'feels_like': 18.03, 'temp_min': 18.58, 'temp_max': 18.58, 'pressure': 1018, 'sea_level': 1018, 'grnd_level': 1009, 'humidity': 59, 'temp_kf': 0}, 'weather': [{'id': 804, 'main': 'Clouds', 'description': 'overcast clouds', 'icon': '04n'}], 'clouds': {'all': 99}, 'wind': {'speed': 1.71, 'deg': 22, 'gust': 2.53}, 'visibility': 10000, 'pop': 0, 'sys': {'pod': 'n'}, 'dt_txt': '2025-09-29 03:00:00'}, {'dt': 1759125600, 'main': {'temp': 18.38, 'feels_like': 17.79, 'temp_min': 18.38, 'temp_max': 18.38, 'pressure': 1018, 'sea_level': 1018, 'grnd_level': 1010, 'humidity': 58, 'temp_kf': 0}, 'weather': [{'id': 804, 'main': 'Clouds', 'description': 'overcast clouds', 'icon': '04d'}], 'clouds': {'all': 100}, 'wind': {'speed': 1.53, 'deg': 360, 'gust': 1.92}, 'visibility': 10000, 'pop': 0, 'sys': {'pod': 'd'}, 'dt_txt': '2025-09-29 06:00:00'}, {'dt': 1759136400, 'main': {'temp': 21.71, 'feels_like': 21.16, 'temp_min': 21.71, 'temp_max': 21.71, 'pressure': 1019, 'sea_level': 1019, 'grnd_level': 1011, 'humidity': 47, 'temp_kf': 0}, 'weather': [{'id': 804, 'main': 'Clouds', 'description': 'overcast clouds', 'icon': '04d'}], 'clouds': {'all': 100}, 'wind': {'speed': 0.79, 'deg': 35, 'gust': 0.54}, 'visibility': 10000, 'pop': 0, 'sys': {'pod': 'd'}, 'dt_txt': '2025-09-29 09:00:00'}, {'dt': 1759147200, 'main': {'temp': 25.75, 'feels_like': 25.24, 'temp_min': 25.75, 'temp_max': 25.75, 'pressure': 1019, 'sea_level': 1019, 'grnd_level': 1011, 'humidity': 33, 'temp_kf': 0}, 'weather': [{'id': 803, 'main': 'Clouds', 'description': 'broken clouds', 'icon': '04d'}], 'clouds': {'all': 68}, 'wind': {'speed': 2.03, 'deg': 218, 'gust': 1.6}, 'visibility': 10000, 'pop': 0, 'sys': {'pod': 'd'}, 'dt_txt': '2025-09-29 12:00:00'}, {'dt': 1759158000, 'main': {'temp': 23.75, 'feels_like': 23.25, 'temp_min': 23.75, 'temp_max': 23.75, 'pressure': 1019, 'sea_level': 1019, 'grnd_level': 1011, 'humidity': 41, 'temp_kf': 0}, 'weather': [{'id': 801, 'main': 'Clouds', 'description': 'few clouds', 'icon': '02d'}], 'clouds': {'all': 11}, 'wind': {'speed': 4.59, 'deg': 251, 'gust': 3.28}, 'visibility': 10000, 'pop': 0, 'sys': {'pod': 'd'}, 'dt_txt': '2025-09-29 15:00:00'}, {'dt': 1759168800, 'main': {'temp': 20.28, 'feels_like': 19.83, 'temp_min': 20.28, 'temp_max': 20.28, 'pressure': 1020, 'sea_level': 1020, 'grnd_level': 1012, 'humidity': 56, 'temp_kf': 0}, 'weather': [{'id': 800, 'main': 'Clear', 'description': 'clear sky', 'icon': '01n'}], 'clouds': {'all': 9}, 'wind': {'speed': 2.02, 'deg': 276, 'gust': 3.08}, 'visibility': 10000, 'pop': 0, 'sys': {'pod': 'n'}, 'dt_txt': '2025-09-29 18:00:00'}, {'dt': 1759179600, 'main': {'temp': 19.47, 'feels_like': 19.01, 'temp_min': 19.47, 'temp_max': 19.47, 'pressure': 1021, 'sea_level': 1021, 'grnd_level': 1013, 'humidity': 59, 'temp_kf': 0}, 'weather': [{'id': 804, 'main': 'Clouds', 'description': 'overcast clouds', 'icon': '04n'}], 'clouds': {'all': 95}, 'wind': {'speed': 0.91, 'deg': 318, 'gust': 1.47}, 'visibility': 10000, 'pop': 0, 'sys': {'pod': 'n'}, 'dt_txt': '2025-09-29 21:00:00'}], 'city': {'id': 3169070, 'name': 'Rome', 'coord': {'lat': 41.8947, 'lon': 12.4839}, 'country': 'IT', 'population': 15000, 'timezone': 7200, 'sunrise': 1758776431, 'sunset': 1758819776}}\n",
      "                  time  temperature  humidity weather_status  wind_speed  \\\n",
      "0  2025-09-25 00:00:00        19.35        68          Clear        0.59   \n",
      "1  2025-09-25 03:00:00        18.51        66          Clear        2.77   \n",
      "2  2025-09-25 06:00:00        17.64        64         Clouds        2.00   \n",
      "3  2025-09-25 09:00:00        19.54        51         Clouds        2.43   \n",
      "4  2025-09-25 12:00:00        21.09        42         Clouds        4.83   \n",
      "\n",
      "   rain_volume_3h  snow_volume_3h  \n",
      "0             NaN             NaN  \n",
      "1             NaN             NaN  \n",
      "2             NaN             NaN  \n",
      "3             NaN             NaN  \n",
      "4             NaN             NaN  \n"
     ]
    }
   ],
   "source": [
    "# Convertimos lo que nos responde la API en un diccionario de Python\n",
    "data = response.json()\n",
    "\n",
    "# Imprimimos todo el contenido tal cual lo manda la API\n",
    "print(data)\n",
    "\n",
    "# Sacamos la lista de pronósticos\n",
    "forecast_list = data.get('list', [])\n",
    "\n",
    "# Creamos listas vacías para guardar los datos que luego vamos a meter en el DataFrame\n",
    "times = []\n",
    "temperatures = []\n",
    "humidities = []\n",
    "weather_statuses = []\n",
    "wind_speeds = []\n",
    "rain_volumes = []\n",
    "snow_volumes = []\n",
    "\n",
    "# Recorremos cada pronóstico de 3 horas que viene en el JSON\n",
    "for entry in forecast_list:\n",
    "    # Guardamos la fecha y hora\n",
    "    times.append(entry.get('dt_txt', np.nan))\n",
    "    # Guardamos la temperatura\n",
    "    temperatures.append(entry.get('main', {}).get('temp', np.nan))\n",
    "    # Guardamos la humedad\n",
    "    humidities.append(entry.get('main', {}).get('humidity', np.nan))\n",
    "    # Guardamos el tipo de clima (Clear, Clouds, Rain, etc.)\n",
    "    weather_statuses.append(entry.get('weather', [{}])[0].get('main', np.nan))\n",
    "    # Guardamos la velocidad del viento\n",
    "    wind_speeds.append(entry.get('wind', {}).get('speed', np.nan))\n",
    "    # Guardamos cuánta lluvia cayó en esas 3 horas\n",
    "    rain_volumes.append(entry.get('rain', {}).get('3h', np.nan))\n",
    "    # Guardamos cuánta nieve cayó en esas 3 horas\n",
    "    snow_volumes.append(entry.get('snow', {}).get('3h', np.nan))\n",
    "\n",
    "# Armamos un DataFrame con todos los datos que juntamos\n",
    "df = pd.DataFrame({\n",
    "    'time': times,\n",
    "    'temperature': temperatures,\n",
    "    'humidity': humidities,\n",
    "    'weather_status': weather_statuses,\n",
    "    'wind_speed': wind_speeds,\n",
    "    'rain_volume_3h': rain_volumes,\n",
    "    'snow_volume_3h': snow_volumes\n",
    "})\n",
    "\n",
    "# Mostramos las primeras 5 filas del DataFrame para ver si todo se acomodó bien\n",
    "print(df.head())\n"
   ]
  },
  {
   "cell_type": "code",
   "execution_count": null,
   "id": "dd435c5b",
   "metadata": {},
   "outputs": [],
   "source": []
  }
 ],
 "metadata": {
  "kernelspec": {
   "display_name": "Python 3 (ipykernel)",
   "language": "python",
   "name": "python3"
  },
  "language_info": {
   "codemirror_mode": {
    "name": "ipython",
    "version": 3
   },
   "file_extension": ".py",
   "mimetype": "text/x-python",
   "name": "python",
   "nbconvert_exporter": "python",
   "pygments_lexer": "ipython3",
   "version": "3.12.3"
  }
 },
 "nbformat": 4,
 "nbformat_minor": 5
}
